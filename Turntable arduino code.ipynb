{
 "metadata": {
  "name": "",
  "signature": "sha256:37603df248cf7f29d9150b7c3f5e4a20f643e36f8a2da45f23c22935f08f08ab"
 },
 "nbformat": 3,
 "nbformat_minor": 0,
 "worksheets": [
  {
   "cells": [
    {
     "cell_type": "markdown",
     "metadata": {},
     "source": [
      "This code is to communicate with an Arduino that is controlling a continuous servo.  The arduino code is:\n"
     ]
    },
    {
     "cell_type": "code",
     "collapsed": false,
     "input": [
      "/*\n",
      " * NewSerialServo\n",
      " * --------------\n",
      " * Servo control from the Serial port\n",
      " *\n",
      " * Alteration of the control interface to use  keys\n",
      " * to slew the servo horn left and right.  Works best with\n",
      " * the Linux/Mac terminal \"screen\" program.\n",
      " *\n",
      " * Created 10 December 2007\n",
      " * copyleft 2007 Brian D. Wendt\n",
      " * http://principialabs.com/\n",
      " *\n",
      " * Adapted from code by Tom Igoe\n",
      " * http://itp.nyu.edu/physcomp/Labs/Servo\n",
      " */\n",
      "\n",
      "/** Adjust these values for your servo and setup, if necessary **/\n",
      "int servoPin     =  2;    // control pin for servo motor\n",
      "int minPulse     =  600;  // minimum servo position\n",
      "int maxPulse     =  2400; // maximum servo position\n",
      "int turnRate     =  50;  // servo turn rate increment (larger value, faster rate)\n",
      "int refreshTime  =  20;   // time (ms) between pulses (50Hz)\n",
      "\n",
      "/** The Arduino will calculate these values for you **/\n",
      "int centerServo;         // center servo position\n",
      "int pulseWidth;          // servo pulse width\n",
      "int moveServo;           // raw user input\n",
      "long currentTime = 0;    // current time (ms)\n",
      "long lastPulse   = 0;    // recorded time (ms) of the last pulse\n",
      "\n",
      "\n",
      "void setup() {\n",
      "  pinMode(servoPin, OUTPUT);  // Set servo pin as an output pin\n",
      "  centerServo = maxPulse - ((maxPulse - minPulse)/2);\n",
      "  pulseWidth = centerServo;   // Give the servo a starting point (or it floats)\n",
      "  Serial.begin(9600);\n",
      "  Serial.println(\"      Arduino Serial Servo Control\");\n",
      "  Serial.println(\"Press < > to move, spacebar to center\");\n",
      "  Serial.println();\n",
      "}\n",
      "\n",
      "void loop() {\n",
      "// wait for serial input\n",
      "  if (Serial.available() > 0) {\n",
      "  // read the incoming byte:\n",
      "    moveServo = Serial.read();\n",
      "    Serial.println(pulseWidth);\n",
      "    Serial.println(moveServo);\n",
      "    // ASCII \u201d is 46 (comma and period, really)\n",
      "    if (moveServo == 44) { pulseWidth = pulseWidth - turnRate; }    \n",
      "    if (moveServo == 46) { pulseWidth = pulseWidth + turnRate; }\n",
      "    if (moveServo == 32) { pulseWidth = centerServo; }\n",
      "    Serial.println(pulseWidth);\n",
      "    // stop servo pulse at min and max\n",
      "    if (pulseWidth > maxPulse) { pulseWidth = maxPulse; }\n",
      "    if (pulseWidth < minPulse) { pulseWidth = minPulse; }\n",
      "    Serial.println(pulseWidth);\n",
      "  }\n",
      "  if ( (currentTime-lastPulse) >= refreshTime) {\n",
      "    digitalWrite(servoPin, HIGH); // start the pulse\n",
      "    delayMicroseconds(pulseWidth); // pulse width\n",
      "    digitalWrite(servoPin, LOW); // stop the pulse\n",
      "    lastPulse = millis(); // save the time of the last pulse\n",
      "  }\n",
      "  currentTime = millis();\n",
      "}"
     ],
     "language": "python",
     "metadata": {},
     "outputs": []
    },
    {
     "cell_type": "code",
     "collapsed": false,
     "input": [
      "## serial communication code to go from python to arduino\n",
      "## for testing\n",
      "import serial\n",
      "import time\n",
      "\n",
      "# open usb serial connection to arduino\n",
      "ser = serial.Serial('/dev/tty.usbmodem1411', 9600)\n",
      "print \"USB port: \", ser.portstr\n",
      "\n",
      "i = 2\n",
      "ser.write(\" \")\n",
      "print \"Center\"\n",
      "\n",
      "while i > 0:\n",
      "    # center servo and wait 1 sec\n",
      "    time.sleep(1)\n",
      "    # move servo 90deg counterclock, wait\n",
      "    ser.write(\",,,,,,,,,\")\n",
      "    print \"90 L\"\n",
      "    time.sleep(1)\n",
      "    # center servo and wait 1 sec\n",
      "    ser.write(\" \")\n",
      "    print \"Center\"\n",
      "    time.sleep(1)\n",
      "    # move servo 90deg clockwise, wait\n",
      "    ser.write(\".........\")\n",
      "    print \"90 R\"\n",
      "    time.sleep(1)\n",
      "    ser.write(\" \")\n",
      "    print \"Center\"\n",
      "    i = i - 1\n",
      "\n",
      "# close the connection\n",
      "ser.close()\n",
      "print \"Sequence complete.\""
     ],
     "language": "python",
     "metadata": {},
     "outputs": [
      {
       "ename": "OSError",
       "evalue": "[Errno 2] No such file or directory: '/dev/tty.usbmodem1411'",
       "output_type": "pyerr",
       "traceback": [
        "\u001b[0;31m---------------------------------------------------------------------------\u001b[0m\n\u001b[0;31mOSError\u001b[0m                                   Traceback (most recent call last)",
        "\u001b[0;32m<ipython-input-1-5ff847b135eb>\u001b[0m in \u001b[0;36m<module>\u001b[0;34m()\u001b[0m\n\u001b[1;32m      5\u001b[0m \u001b[0;34m\u001b[0m\u001b[0m\n\u001b[1;32m      6\u001b[0m \u001b[0;31m# open usb serial connection to arduino\u001b[0m\u001b[0;34m\u001b[0m\u001b[0;34m\u001b[0m\u001b[0m\n\u001b[0;32m----> 7\u001b[0;31m \u001b[0mser\u001b[0m \u001b[0;34m=\u001b[0m \u001b[0mserial\u001b[0m\u001b[0;34m.\u001b[0m\u001b[0mSerial\u001b[0m\u001b[0;34m(\u001b[0m\u001b[0;34m'/dev/tty.usbmodem1411'\u001b[0m\u001b[0;34m,\u001b[0m \u001b[0;36m9600\u001b[0m\u001b[0;34m)\u001b[0m\u001b[0;34m\u001b[0m\u001b[0m\n\u001b[0m\u001b[1;32m      8\u001b[0m \u001b[0;32mprint\u001b[0m \u001b[0;34m\"USB port: \"\u001b[0m\u001b[0;34m,\u001b[0m \u001b[0mser\u001b[0m\u001b[0;34m.\u001b[0m\u001b[0mportstr\u001b[0m\u001b[0;34m\u001b[0m\u001b[0m\n\u001b[1;32m      9\u001b[0m \u001b[0;34m\u001b[0m\u001b[0m\n",
        "\u001b[0;32m/Users/celiasmi/.virtualenvs/ip/lib/python2.7/site-packages/serial/serialutil.pyc\u001b[0m in \u001b[0;36m__init__\u001b[0;34m(self, port, baudrate, bytesize, parity, stopbits, timeout, xonxoff, rtscts, writeTimeout, dsrdtr, interCharTimeout)\u001b[0m\n\u001b[1;32m    280\u001b[0m \u001b[0;34m\u001b[0m\u001b[0m\n\u001b[1;32m    281\u001b[0m         \u001b[0;32mif\u001b[0m \u001b[0mport\u001b[0m \u001b[0;32mis\u001b[0m \u001b[0;32mnot\u001b[0m \u001b[0mNone\u001b[0m\u001b[0;34m:\u001b[0m\u001b[0;34m\u001b[0m\u001b[0m\n\u001b[0;32m--> 282\u001b[0;31m             \u001b[0mself\u001b[0m\u001b[0;34m.\u001b[0m\u001b[0mopen\u001b[0m\u001b[0;34m(\u001b[0m\u001b[0;34m)\u001b[0m\u001b[0;34m\u001b[0m\u001b[0m\n\u001b[0m\u001b[1;32m    283\u001b[0m \u001b[0;34m\u001b[0m\u001b[0m\n\u001b[1;32m    284\u001b[0m     \u001b[0;32mdef\u001b[0m \u001b[0misOpen\u001b[0m\u001b[0;34m(\u001b[0m\u001b[0mself\u001b[0m\u001b[0;34m)\u001b[0m\u001b[0;34m:\u001b[0m\u001b[0;34m\u001b[0m\u001b[0m\n",
        "\u001b[0;32m/Users/celiasmi/.virtualenvs/ip/lib/python2.7/site-packages/serial/serialposix.pyc\u001b[0m in \u001b[0;36mopen\u001b[0;34m(self)\u001b[0m\n\u001b[1;32m    287\u001b[0m         \u001b[0;31m# open\u001b[0m\u001b[0;34m\u001b[0m\u001b[0;34m\u001b[0m\u001b[0m\n\u001b[1;32m    288\u001b[0m         \u001b[0;32mtry\u001b[0m\u001b[0;34m:\u001b[0m\u001b[0;34m\u001b[0m\u001b[0m\n\u001b[0;32m--> 289\u001b[0;31m             \u001b[0mself\u001b[0m\u001b[0;34m.\u001b[0m\u001b[0mfd\u001b[0m \u001b[0;34m=\u001b[0m \u001b[0mos\u001b[0m\u001b[0;34m.\u001b[0m\u001b[0mopen\u001b[0m\u001b[0;34m(\u001b[0m\u001b[0mself\u001b[0m\u001b[0;34m.\u001b[0m\u001b[0mportstr\u001b[0m\u001b[0;34m,\u001b[0m \u001b[0mos\u001b[0m\u001b[0;34m.\u001b[0m\u001b[0mO_RDWR\u001b[0m\u001b[0;34m|\u001b[0m\u001b[0mos\u001b[0m\u001b[0;34m.\u001b[0m\u001b[0mO_NOCTTY\u001b[0m\u001b[0;34m|\u001b[0m\u001b[0mos\u001b[0m\u001b[0;34m.\u001b[0m\u001b[0mO_NONBLOCK\u001b[0m\u001b[0;34m)\u001b[0m\u001b[0;34m\u001b[0m\u001b[0m\n\u001b[0m\u001b[1;32m    290\u001b[0m         \u001b[0;32mexcept\u001b[0m \u001b[0mIOError\u001b[0m\u001b[0;34m,\u001b[0m \u001b[0mmsg\u001b[0m\u001b[0;34m:\u001b[0m\u001b[0;34m\u001b[0m\u001b[0m\n\u001b[1;32m    291\u001b[0m             \u001b[0mself\u001b[0m\u001b[0;34m.\u001b[0m\u001b[0mfd\u001b[0m \u001b[0;34m=\u001b[0m \u001b[0mNone\u001b[0m\u001b[0;34m\u001b[0m\u001b[0m\n",
        "\u001b[0;31mOSError\u001b[0m: [Errno 2] No such file or directory: '/dev/tty.usbmodem1411'"
       ]
      }
     ],
     "prompt_number": 1
    },
    {
     "cell_type": "markdown",
     "metadata": {},
     "source": [
      "Code for arduino control below here (client/server)"
     ]
    }
   ],
   "metadata": {}
  }
 ]
}